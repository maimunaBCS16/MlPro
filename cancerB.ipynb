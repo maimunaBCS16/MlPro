{
  "nbformat": 4,
  "nbformat_minor": 0,
  "metadata": {
    "colab": {
      "provenance": [],
      "gpuType": "T4",
      "authorship_tag": "ABX9TyPKW76zKo9Zm2uLzjok0UA4",
      "include_colab_link": true
    },
    "kernelspec": {
      "name": "python3",
      "display_name": "Python 3"
    },
    "language_info": {
      "name": "python"
    },
    "accelerator": "GPU"
  },
  "cells": [
    {
      "cell_type": "markdown",
      "metadata": {
        "id": "view-in-github",
        "colab_type": "text"
      },
      "source": [
        "<a href=\"https://colab.research.google.com/github/maimunaBCS16/MlPro/blob/main/cancerB.ipynb\" target=\"_parent\"><img src=\"https://colab.research.google.com/assets/colab-badge.svg\" alt=\"Open In Colab\"/></a>"
      ]
    },
    {
      "cell_type": "markdown",
      "source": [
        "start\n"
      ],
      "metadata": {
        "id": "-uwuXnEFQFIs"
      }
    },
    {
      "cell_type": "code",
      "execution_count": 1,
      "metadata": {
        "colab": {
          "base_uri": "https://localhost:8080/"
        },
        "id": "r3kbujoo3Oma",
        "outputId": "574087cc-ac1e-4114-e900-1f32ae01c43b"
      },
      "outputs": [
        {
          "output_type": "stream",
          "name": "stdout",
          "text": [
            "cuda\n"
          ]
        }
      ],
      "source": [
        "import numpy as np\n",
        "import pandas as pd\n",
        "import torch\n",
        "import torch.nn as nn\n",
        "import torch.optim\n",
        "from sklearn.datasets import load_breast_cancer\n",
        "from sklearn.model_selection import train_test_split\n",
        "from sklearn.preprocessing import StandardScaler\n",
        "#check\n",
        "cud_d=torch.device('cuda' if torch.cuda.is_available() else 'cpu')\n",
        "print(cud_d)"
      ]
    },
    {
      "cell_type": "code",
      "source": [
        "#loading data\n",
        "p_data=load_breast_cancer()\n",
        "x_data=p_data.data\n",
        "y_data=p_data.target\n",
        "print(x_data)"
      ],
      "metadata": {
        "colab": {
          "base_uri": "https://localhost:8080/"
        },
        "id": "FFr4OkgMSHuF",
        "outputId": "bffae9fc-cb4e-43aa-ea43-653226787f95"
      },
      "execution_count": 3,
      "outputs": [
        {
          "output_type": "stream",
          "name": "stdout",
          "text": [
            "[[1.799e+01 1.038e+01 1.228e+02 ... 2.654e-01 4.601e-01 1.189e-01]\n",
            " [2.057e+01 1.777e+01 1.329e+02 ... 1.860e-01 2.750e-01 8.902e-02]\n",
            " [1.969e+01 2.125e+01 1.300e+02 ... 2.430e-01 3.613e-01 8.758e-02]\n",
            " ...\n",
            " [1.660e+01 2.808e+01 1.083e+02 ... 1.418e-01 2.218e-01 7.820e-02]\n",
            " [2.060e+01 2.933e+01 1.401e+02 ... 2.650e-01 4.087e-01 1.240e-01]\n",
            " [7.760e+00 2.454e+01 4.792e+01 ... 0.000e+00 2.871e-01 7.039e-02]]\n"
          ]
        }
      ]
    },
    {
      "cell_type": "markdown",
      "source": [
        "split"
      ],
      "metadata": {
        "id": "U--L-9UDTCu0"
      }
    },
    {
      "cell_type": "code",
      "source": [
        "x_train, x_test, y_train, y_test = train_test_split(x_data, y_data, test_size=0.2, random_state=42)\n",
        "print(x_data.shape)\n",
        "print(x_train.shape)\n",
        "print(x_test.shape)\n"
      ],
      "metadata": {
        "colab": {
          "base_uri": "https://localhost:8080/"
        },
        "id": "tbu7B2roTaD8",
        "outputId": "3b0d603a-ab37-41a0-d6d3-037a198f019b"
      },
      "execution_count": 4,
      "outputs": [
        {
          "output_type": "stream",
          "name": "stdout",
          "text": [
            "(569, 30)\n",
            "(455, 30)\n",
            "(114, 30)\n"
          ]
        }
      ]
    },
    {
      "cell_type": "code",
      "source": [
        "sc=StandardScaler()\n",
        "x_train=sc.fit_transform(x_train)\n",
        "x_test=sc.transform(x_test)\n",
        "type(x_train)\n"
      ],
      "metadata": {
        "colab": {
          "base_uri": "https://localhost:8080/"
        },
        "id": "NibdIJJNTulo",
        "outputId": "ecac4429-8822-4ccc-a8ae-d848be973d4d"
      },
      "execution_count": 5,
      "outputs": [
        {
          "output_type": "execute_result",
          "data": {
            "text/plain": [
              "numpy.ndarray"
            ]
          },
          "metadata": {},
          "execution_count": 5
        }
      ]
    },
    {
      "cell_type": "markdown",
      "source": [
        "data>>pyTorch"
      ],
      "metadata": {
        "id": "mOMUZT6GUztT"
      }
    },
    {
      "cell_type": "code",
      "source": [
        "x_train=torch.tensor(x_train, dtype=torch.float32).to(cud_d)\n",
        "x_test=torch.tensor(x_test, dtype=torch.float32).to(cud_d)\n",
        "y_train=torch.tensor(y_train, dtype=torch.float32).to(cud_d)\n",
        "y_test=torch.tensor(y_test, dtype=torch.float32).to(cud_d)\n"
      ],
      "metadata": {
        "id": "eoaL6upwUxdb"
      },
      "execution_count": 6,
      "outputs": []
    },
    {
      "cell_type": "code",
      "source": [
        "#nural network\n",
        "class NeuralNet(nn.Module):\n",
        "    def __init__(self, input_size, hidden_size, output_size):\n",
        "        super(NeuralNet, self).__init__()\n",
        "        self.fc1 = nn.Linear(input_size, hidden_size)\n",
        "        self.relu = nn.ReLU()\n",
        "        self.fc2 = nn.Linear(hidden_size, output_size)\n",
        "        self.sigmoid = nn.Sigmoid()\n",
        "\n",
        "    def forward(self, x):\n",
        "        out = self.fc1(x)\n",
        "        out = self.relu(out)\n",
        "        out = self.fc2(out)\n",
        "        out = self.sigmoid(out)\n",
        "        return out"
      ],
      "metadata": {
        "id": "cmzVJ3TtZPSN"
      },
      "execution_count": 7,
      "outputs": []
    },
    {
      "cell_type": "code",
      "source": [
        "input_size = x_train.shape[1]\n",
        "hidden_size = 64\n",
        "output_size = 1\n",
        "learning_rate = 0.001\n",
        "num_epochs = 100\n",
        "model=NeuralNet(input_size, hidden_size, output_size).to(cud_d)"
      ],
      "metadata": {
        "id": "9HQMsd4eaCYB"
      },
      "execution_count": 8,
      "outputs": []
    },
    {
      "cell_type": "code",
      "source": [
        "criterion=nn.BCELoss()\n",
        "optimizer=torch.optim.Adam(model.parameters(), lr=learning_rate)"
      ],
      "metadata": {
        "id": "uLPzDfEbagNw"
      },
      "execution_count": 9,
      "outputs": []
    },
    {
      "cell_type": "markdown",
      "source": [
        "train"
      ],
      "metadata": {
        "id": "XxCXvk2savBA"
      }
    },
    {
      "cell_type": "code",
      "source": [
        "for epoch in range(num_epochs):\n",
        "    model.train()\n",
        "    optimizer.zero_grad()\n",
        "    outputs=model(x_train)\n",
        "    loss=criterion(outputs, y_train.view(-1, 1))\n",
        "    loss.backward()\n",
        "    optimizer.step()\n",
        "\n",
        "    with torch.no_grad():\n",
        "      predicted=outputs.round()\n",
        "      correct=(predicted==y_train.view(-1, 1)).float().sum()\n",
        "      accuracy=correct/y_train.size(0)\n",
        "      if (epoch+1)%10==0:\n",
        "        print(f'Epoch [{epoch+1}/{num_epochs}], Loss: {loss.item():.4f}, Accuracy: {accuracy.item()*100:.2f}%')\n"
      ],
      "metadata": {
        "colab": {
          "base_uri": "https://localhost:8080/"
        },
        "id": "ujpBCQlhawh8",
        "outputId": "6349370c-d322-4371-9d72-555defa0fcb5"
      },
      "execution_count": 27,
      "outputs": [
        {
          "output_type": "stream",
          "name": "stdout",
          "text": [
            "Epoch [10/100], Loss: 0.1112, Accuracy: 97.36%\n",
            "Epoch [20/100], Loss: 0.1028, Accuracy: 97.80%\n",
            "Epoch [30/100], Loss: 0.0958, Accuracy: 98.02%\n",
            "Epoch [40/100], Loss: 0.0899, Accuracy: 98.24%\n",
            "Epoch [50/100], Loss: 0.0847, Accuracy: 98.46%\n",
            "Epoch [60/100], Loss: 0.0803, Accuracy: 98.46%\n",
            "Epoch [70/100], Loss: 0.0763, Accuracy: 98.46%\n",
            "Epoch [80/100], Loss: 0.0728, Accuracy: 98.46%\n",
            "Epoch [90/100], Loss: 0.0697, Accuracy: 98.46%\n",
            "Epoch [100/100], Loss: 0.0668, Accuracy: 98.24%\n"
          ]
        }
      ]
    },
    {
      "cell_type": "code",
      "source": [
        "model.eval()\n",
        "with torch.no_grad():\n",
        "  outputs=model(x_train)\n",
        "  predicted=outputs.round()\n",
        "  correct=(predicted==y_train.view(-1, 1)).float().sum()\n",
        "  accuracy=correct/y_train.size(0)\n",
        "  print(f'Accuracy: {accuracy.item()*100:.2f}%')"
      ],
      "metadata": {
        "colab": {
          "base_uri": "https://localhost:8080/"
        },
        "id": "0bVv3hmndUL9",
        "outputId": "49e1065b-53c2-4ddf-c248-f42496c34c76"
      },
      "execution_count": 28,
      "outputs": [
        {
          "output_type": "stream",
          "name": "stdout",
          "text": [
            "Accuracy: 98.24%\n"
          ]
        }
      ]
    }
  ]
}